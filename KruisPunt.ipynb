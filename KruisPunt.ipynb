{
 "cells": [
  {
   "cell_type": "markdown",
   "metadata": {},
   "source": [
    "## Kruispunt Simuleren In Python \n",
    "----------------------------------------------\n",
    "**Student : Hussin Almoustafa** \n",
    "\n",
    "## inleiding \n",
    "Waarom verkeersstroom simuleren?\n",
    "De belangrijkste reden achter het simuleren van verkeer is het genereren van gegevens zonder de echte wereld. In plaats van nieuwe ideeën te testen over hoe verkeerssystemen in de echte wereld te beheren of gegevens te verzamelen met behulp van sensoren, kunt u een op software draaiend model gebruiken om de verkeersstroom te voorspellen. Dit helpt de optimalisatie en gegevensverzameling van verkeerssystemen te versnellen. Simulatie is een veel goedkoper en sneller alternatief voor testen in de echte wereld."
   ]
  },
  {
   "cell_type": "markdown",
   "metadata": {},
   "source": [
    "## Modellering\n",
    "Om verkeerssystemen te analyseren en te optimaliseren, moeten we eerst een verkeerssysteem wiskundig modelleren. Een dergelijk model moet de verkeersstroom realistisch weergeven op basis van invoerparameters (geometrie van het wegennet, voertuigen per minuut, voertuigsnelheid, …).\n",
    "\n",
    "In dit Simulatie zal ik een microscopisch model gebruiken.\n"
   ]
  },
  {
   "cell_type": "markdown",
   "metadata": {},
   "source": [
    "**Een microscopisch** bestuurdersmodel beschrijft het gedrag van een enkele bestuurder/voertuig. Daarom moet het een multi-agent systeem zijn, dat wil zeggen dat elk voertuig op zichzelf werkt met input uit zijn omgeving.\n",
    "![Dierction of traffic](1.png)\n"
   ]
  },
  {
   "cell_type": "markdown",
   "metadata": {},
   "source": [
    "In microscopische modellen is elk voertuig genummerd met een nummer i. Het i-de voertuig volgt het (i-1)-de voertuig. Voor het i-de voertuig zullen we de positie langs de weg met xᵢ aangeven, vᵢ de snelheid en lᵢ de lengte. En dat geldt voor elk voertuig. \n",
    "\n",
    "![microscopische](3.png)\n",
    "\n",
    "Met sᵢ geven we de bumper-tot-bumper afstand aan en Δvᵢ het snelheidsverschil tussen het i-de voertuig en het voertuig ervoor (voertuignummer i-1).\n",
    "\n"
   ]
  },
  {
   "cell_type": "markdown",
   "metadata": {},
   "source": [
    "**Voertuiggenerator**\n",
    "\n",
    "Om voertuigen aan onze simulatie toe te voegen, hebben we twee opties:\n",
    "* Voeg elk voertuig handmatig toe aan de simulatie door een nieuwe voertuigklasse-instantie te maken en deze toe te voegen aan de lijst met voertuigen.\n",
    "\n",
    "* Voeg voertuigen toe volgens vooraf gedefinieerde kansen.\n",
    "\n",
    "Voor de tweede optie moeten we een stochastische voertuiggenerator definiëren.\n",
    "\n",
    "Een voertuiggenerator wordt gedefinieerd door twee beperkingen:\n",
    "* Voertuiggeneratiesnelheid (τ): (in voertuigen per minuut) beschrijft hoeveel voertuigen gemiddeld per minuut aan de simulatie moeten worden toegevoegd.\n",
    "\n",
    "* Voertuigconfiguratielijst (L): Een lijst met tupels die de configuratie en waarschijnlijkheid van voertuigen bevatten.\n",
    "L = [(p₁, V₁), (p₂, V₂), (p₃, V₃), …]\n",
    "\n",
    "De voertuiggenerator genereert het voertuig Vᵢ met waarschijnlijkheid pᵢ."
   ]
  },
  {
   "cell_type": "markdown",
   "metadata": {},
   "source": [
    "**Verkeerslicht** \n",
    "\n",
    "Verkeerslichten worden op hoeken geplaatst en worden gekenmerkt door twee zones:\n",
    "\n",
    "Vertragingszone: gekenmerkt door een vertragingsafstand en een vertragingsfactor, is een zone waarin voertuigen hun maximale snelheid vertragen met behulp van de vertragingsfactor.\n",
    "![Vertragingszone](2.png)\n",
    "\n",
    "Stopzone: gekenmerkt door een stopafstand, is een zone waarin voertuigen stoppen. Dit wordt bereikt met behulp van een dempingskracht door deze dynamische vergelijking:\n",
    "![Stopzone](4.png)\n"
   ]
  },
  {
   "cell_type": "markdown",
   "metadata": {},
   "source": [
    "**Simulatie**\n",
    "\n",
    "We gaan voor een objectgeoriënteerde aanpak. Elk voertuig en elke weg wordt als een klasse gedefinieerd.\n",
    "We zullen de volgende __init__-functie herhaaldelijk gebruiken in veel komende lessen. Het stelt de standaardconfiguratie van de huidige klasse in via een functie set_default_config. En verwacht een woordenboek en stelt elke eigenschap in het woordenboek in als een eigenschap voor de huidige klasse-instantie. Op deze manier hoeven we ons geen zorgen te maken over het bijwerken van __init__-functies van verschillende klassen of over toekomstige wijzigingen."
   ]
  },
  {
   "cell_type": "code",
   "execution_count": 1,
   "metadata": {},
   "outputs": [],
   "source": [
    "def __init__(self, config={}):\n",
    "  # Set default configuration\n",
    "  self.set_default_config()\n",
    "\n",
    "  # Update configuration\n",
    "  for attr, val in config.items():\n",
    "      setattr(self, attr, val)"
   ]
  },
  {
   "cell_type": "markdown",
   "metadata": {},
   "source": [
    "**voertuigen** \n",
    "\n",
    "We zullen Taylorreeks gebruiken om de oplossing van de dynamische vergelijkingen te benaderen.\n",
    "\n",
    "Het is gebruikelijk een functie te benaderen door een eindig aantal termen van haar taylorreeks te gebruiken. De stelling van Taylor geeft kwantitatieve schattingen van de fout in deze benadering.\n",
    "\n",
    "\n",
    "Taylorreeksexpansie voor een oneindig differentieerbare functie f is:\n",
    "![Taylorreeksexpansie](5.png)\n",
    "\n",
    "In elke iteratie (of frame), na het berekenen van de versnelling met behulp van de IDM-formule, zullen we de positie en snelheid bijwerken met behulp van deze twee vergelijkingen:\n",
    "\n",
    "![positie en snelheid](6.png)"
   ]
  },
  {
   "cell_type": "markdown",
   "metadata": {},
   "source": [
    "**Curven** \n",
    "\n",
    "In de echte wereld hebben wegen bochten. Hoewel we technisch gezien bochten kunnen maken in deze simulatie door de coördinaten van veel wegen met de hand te schrijven om een bocht te benaderen, kunnen we hetzelfde procedureel doen.\n",
    "\n",
    "\n",
    "Ik zal hiervoor bézierkromme  gebruiken.\n",
    "![positie en snelheid](7.png)\n",
    "\n",
    "\n"
   ]
  },
  {
   "cell_type": "markdown",
   "metadata": {},
   "source": [
    "**Implentatie**\n",
    "\n",
    "We zullen een Weg-klasse maken:\n"
   ]
  },
  {
   "cell_type": "code",
   "execution_count": 2,
   "metadata": {},
   "outputs": [],
   "source": [
    "from scipy.spatial import distance\n",
    "\n",
    "class Weg:\n",
    "    def __init__(self, start, end):\n",
    "        self.start = start\n",
    "        self.end = end\n",
    "\n",
    "        self.init_porperties()\n",
    "\n",
    "    def init_properties(self):\n",
    "        self.length = distance.euclidean(self.start, self.end)\n",
    "        self.angle_sin = (self.end[1]-self.start[1]) / self.length\n",
    "        self.angle_cos = (self.end[0]-self.start[0]) / self.length"
   ]
  },
  {
   "cell_type": "markdown",
   "metadata": {},
   "source": [
    "We hebben de lengte van de weg en de cosinus en sinus van de hoek nodig wanneer we deze op het scherm tekenen."
   ]
  },
  {
   "cell_type": "markdown",
   "metadata": {},
   "source": [
    "**Simulation** \n",
    "\n",
    "En een simulatieles. Ik heb een aantal methoden toegevoegd om wegen aan de simulatie toe te voegen. "
   ]
  },
  {
   "cell_type": "code",
   "execution_count": 3,
   "metadata": {},
   "outputs": [],
   "source": [
    "\n",
    "class Simulation:\n",
    "    def __init__(self, config={}):\n",
    "        # Standaardconfiguratie instellen\n",
    "        self.set_default_config()\n",
    "\n",
    "        # Configuratie bijwerken\n",
    "        for attr, val in config.items():\n",
    "            setattr(self, attr, val)\n",
    "\n",
    "    def set_default_config(self):\n",
    "        self.t = 0.0            # Tijd \n",
    "        self.frame_count = 0    # Frame telling\n",
    "        self.dt = 1/60          # Simulatie tijdstap\n",
    "        self.wegen = []         # Array om wegen op te slaan\n",
    "\n",
    "    def maak_weg(self, start, eind):\n",
    "        weg = Weg(start, eind)\n",
    "        self.wegen.append(weg)\n",
    "        return weg\n",
    "\n",
    "    def maak_wegen(self, wegen_lijst):\n",
    "        for weg in wegen_lijst:\n",
    "            self.maak_weg(*road)"
   ]
  },
  {
   "cell_type": "markdown",
   "metadata": {},
   "source": [
    "**Voertuigen** "
   ]
  },
  {
   "cell_type": "code",
   "execution_count": 4,
   "metadata": {},
   "outputs": [],
   "source": [
    "import numpy as np\n",
    "\n",
    "class Voertuigen:\n",
    "    def __init__(self, config={}):\n",
    "        # Standaardconfiguratie instellen\n",
    "        self.set_default_config()\n",
    "\n",
    "        # Configuratie bijwerken\n",
    "        for attr, val in config.items():\n",
    "            setattr(self, attr, val)\n",
    "\n",
    "        # Bereken properties\n",
    "        self.init_properties()\n",
    "\n",
    "    def set_default_config(self):    \n",
    "        self.l = 4\n",
    "        self.s0 = 4\n",
    "        self.T = 1\n",
    "        self.v_max = 16.6\n",
    "        self.a_max = 1.44\n",
    "        self.b_max = 4.61\n",
    "\n",
    "        self.path = []\n",
    "        self.huidige_wegenindex = 0\n",
    "\n",
    "        self.x = 0\n",
    "        self.v = self.v_max\n",
    "        self.a = 0\n",
    "        self.gestopt = False\n",
    "\n",
    "    def init_properties(self):\n",
    "        self.sqrt_ab = 2*np.sqrt(self.a_max*self.b_max)\n",
    "        self._v_max = self.v_max\n",
    "\n",
    "    def update(self, lead, dt):\n",
    "        \"\"\"Aangezien dit slechts een benadering is, kan de snelheid soms negatief\n",
    "        worden (maar het model laat dat niet toe). Een instabiliteit ontstaat \n",
    "        wanneer de snelheid negatief is,\n",
    "        en de positie en snelheid divergeren naar negatief oneindig.\"\"\"\n",
    "        if self.v + self.a*dt < 0:\n",
    "            self.x -= 1/2*self.v*self.v/self.a\n",
    "            self.v = 0\n",
    "        else:\n",
    "            self.v += self.a*dt\n",
    "            self.x += self.v*dt + self.a*dt*dt/2\n",
    "            \n",
    "        \"\"\" Om de IDM-versnelling te berekenen, zullen we het lead voertuigaanduiden \n",
    "            als lead en de interactieterm berekenen\n",
    "            (aangeduid met alpha) wanneer lead is Geen None.\"\"\"\n",
    "        # Acceleratie updaten\n",
    "        alpha = 0\n",
    "        if lead:\n",
    "            delta_x = lead.x - self.x - lead.l\n",
    "            delta_v = self.v - lead.v\n",
    "\n",
    "            alpha = (self.s0 + max(0, self.T*self.v + delta_v*self.v/self.sqrt_ab)) / delta_x\n",
    "\n",
    "        self.a = self.a_max * (1-(self.v/self.v_max)**4 - alpha**2)\n",
    "        \n",
    "        \"\"\" Als het voertuig stilstaat (bijvoorbeeld bij een verkeerslicht),\n",
    "            gebruiken we de dempingsvergelijking:\"\"\"\n",
    "\n",
    "        if self.gestopt:\n",
    "            self.a = -self.b_max*self.v/self.v_max\n",
    "        \n",
    "    def stop(self):\n",
    "        self.gestopt = True\n",
    "\n",
    "    def ontstoppen(self):\n",
    "        self.gestopt = False\n",
    "\n",
    "    def langzaam(self, v):\n",
    "        self.v_max = v\n",
    "\n",
    "    def niet_vertragen(self):\n",
    "        self.v_max = self._v_max\n"
   ]
  },
  {
   "cell_type": "markdown",
   "metadata": {},
   "source": [
    "**Voertuiggeneratoren** \n",
    "\n",
    "VehicleGenerator heeft een reeks tupels met (odds, voertuig) .\n",
    "Het eerste element van de tupel is het gewicht (niet de waarschijnlijkheid) van het genereren van het voertuig in dezelfde tupel. Ik heb gewichten gebruikt omdat ze gemakkelijker zijn om mee te werken, omdat we gewoon gehele getallen kunnen gebruiken.\n",
    "Als we bijvoorbeeld 3 voertuigen hebben met gewichten 1 , 3 , 2 . Dit komt overeen met 1/6 , 3/6 , 2/6 met 6=1+3+2.\n"
   ]
  },
  {
   "cell_type": "code",
   "execution_count": 5,
   "metadata": {},
   "outputs": [],
   "source": [
    "from numpy.random import randint\n",
    "\n",
    "class Voertuiggenerator:\n",
    "    def __init__(self, sim, config={}):\n",
    "        self.sim = sim\n",
    "\n",
    "        # Standaardconfiguraties instellen\n",
    "        self.set_default_config()\n",
    "\n",
    "        # update configuraties\n",
    "        for attr, val in config.items():\n",
    "            setattr(self, attr, val)\n",
    "\n",
    "        # bereken properties\n",
    "        self.init_properties()\n",
    "\n",
    "    def set_default_config(self):\n",
    "        \"\"\"Standaardconfiguratie instellen\"\"\"\n",
    "        self.voertuig_tarief = 20\n",
    "        self.voertuigen = [\n",
    "            (1, {})\n",
    "        ]\n",
    "        self.laatst_toegevoegde_tijd = 0\n",
    "\n",
    "    def init_properties(self):\n",
    "        self.aankomend_voertuig = self.voertuig_genereren()\n",
    "\n",
    "    def voertuig_genereren(self):\n",
    "        \"\"\"Retourneert een willekeurig voertuig van zelf.voertuigen met willekeurige verhoudingen\"\"\"\n",
    "        totaal = sum(pair[0] for pair in self.voertuigen)\n",
    "        r = randint(1, totaal+1)\n",
    "        for (weight, config) in self.voertuigen:\n",
    "            r -= weight\n",
    "            if r <= 0:\n",
    "                return Voertuigen(config)\n",
    "\n",
    "    def update(self):\n",
    "        \"\"\"Voertuigen toevoegen\"\"\"\n",
    "        if self.sim.t - self.laatst_toegevoegde_tijd >= 60 / self.voertuig_tarief:\n",
    "            # Als de tijd is verstreken nadat het laatst toegevoegde voertuig is\n",
    "            # langer dan voertuigperiode; een voertuig genereren\n",
    "            weg = self.sim.wegen[self.aankomend_voertuig.path[0]]\n",
    "            if len(weg.voertuigen) == 0\\\n",
    "               or weg.voertuigen[-1].x > self.aankomend_voertuig.s0 + self.aankomend_voertuig.l:\n",
    "                # Als er ruimte is voor het gegenereerde voertuig; voeg het toe\n",
    "                self.aankomend_voertuig.time_added = self.sim.t\n",
    "                weg.voertuigen.append(self.aankomend_voertuig)\n",
    "                # Reset laatst toegevoegde tijd en aankomend voertuig\n",
    "                self.laatst_toegevoegde_tijd = self.sim.t\n",
    "            self.aankomend_voertuig = self.voertuig_genereren()\n",
    "\n"
   ]
  },
  {
   "cell_type": "markdown",
   "metadata": {},
   "source": [
    "**Verkeerslicht**\n",
    "\n",
    "\n",
    "self.cycle is een array van tupels die de toestanden bevatten (True voor groen en False voor rood) voor elke weg in self.wegen .\n",
    "In de standaardconfiguratie betekent (False, True) dat de eerste set weg rood is en de tweede groen. (Waar, niet waar) is het tegenovergestelde.\n",
    "Deze aanpak wordt gebruikt omdat het gemakkelijk schaalbaar is. We creëren verkeerslichten die meer dan 2 wegen omvatten, verkeerslichten met aparte signalen voor afslagen naar rechts en naar links, of zelfs voor gesynchroniseerde verkeerslichten over meerdere kruispunten.\n",
    "De update-functie van een verkeerslicht zou aanpasbaar moeten zijn. Het standaardgedrag is symmetrisch fietsen met een vaste tijd."
   ]
  },
  {
   "cell_type": "code",
   "execution_count": 6,
   "metadata": {},
   "outputs": [],
   "source": [
    "class Verkeerslicht:\n",
    "    def __init__(self, wegen, config={}):\n",
    "        # Wegen initialiseren\n",
    "        self.wegen = wegen\n",
    "        # Standaard configuratie instellen\n",
    "        self.set_default_config()\n",
    "        # Update configuratie\n",
    "        for attr, val in config.items():\n",
    "            setattr(self, attr, val)\n",
    "        # bereken properties\n",
    "        self.init_properties()\n",
    "\n",
    "    def set_default_config(self):\n",
    "        self.cycle = [(True, False), (False, True)]\n",
    "        self.langzame_afstand = 45\n",
    "        self.langzame_factor = 0.3\n",
    "        self.stop_afstand = 10\n",
    "        self.satus = 0\n",
    "\n",
    "        self.huidige_cyclusindex = 0\n",
    "\n",
    "        self.last_t = 0\n",
    "\n",
    "    def init_properties(self):\n",
    "        for i in range(len(self.wegen)):\n",
    "            for weg in self.wegen[i]:\n",
    "                weg.verkeerslicht_instellen(self, i)\n",
    "\n",
    "    @property\n",
    "    def huidige_cyclus(self):\n",
    "        return self.cycle[self.huidige_cyclusindex]\n",
    "    \n",
    "    def update(self, sim):\n",
    "        cycle_lengte = 30\n",
    "        k = (sim.t // cycle_lengte) % 2\n",
    "        self.huidige_cyclusindex = int(k)\n",
    "\n"
   ]
  },
  {
   "cell_type": "markdown",
   "metadata": {},
   "source": [
    "**Bocht functies** \n",
    "\n",
    "bevat functies die helpen bij het maken van bochten en ernaar verwijzen door hun wegindexen."
   ]
  },
  {
   "cell_type": "code",
   "execution_count": 7,
   "metadata": {},
   "outputs": [],
   "source": [
    "\n",
    "def bocht_punten(start, eind, control, resolution=5):\n",
    "    \n",
    "    # Als curve een rechte lijn is\n",
    "    if (start[0] - eind[0])*(start[1] - eind[1]) == 0:\\\n",
    "        \n",
    "        return [start, eind]\n",
    "\n",
    "    #Zo niet, retourneer dan een curve\n",
    "    path = []\n",
    "\n",
    "    for i in range(resolution+1):\n",
    "        t = i/resolution\n",
    "        x = (1-t)**2 * start[0] + 2*(1-t)*t * control[0] + t**2 *eind[0]\n",
    "        y = (1-t)**2 * start[1] + 2*(1-t)*t * control[1] + t**2 *eind[1]\n",
    "        path.append((x, y))\n",
    "\n",
    "    return path\n",
    "\n",
    "def bocht_weg(start, eind, control, resolution=15):\n",
    "    punten = bocht_punten(start, eind, control, resolution=resolution)\n",
    "    return [(punten[i-1], punten[i]) for i in range(1, len(punten))]\n",
    "\n",
    "SLA_LINKSAF = 0\n",
    "SLA_RECHTSAF = 1\n",
    "def weg_afslaan(start, eind, draai_richting, resolution=15):\n",
    "    # Krijg controlepunt\n",
    "    x = min(start[0], eind[0])\n",
    "    y = min(start[1], eind[1])\n",
    "\n",
    "    if draai_richting == SLA_LINKSAF:\n",
    "        control = (x - y + start[1], y - x + eind[0])\n",
    "    else:\n",
    "        control = (\n",
    "        x - y + eind[1],\n",
    "        y - x + start[0])\n",
    "        \n",
    "    return bocht_weg(start, eind, control, resolution=resolution)"
   ]
  },
  {
   "cell_type": "markdown",
   "metadata": {},
   "source": [
    "**Conclusie**\n",
    "\n",
    "Hoewel we de Class Simulation kunnen aanpassen om gegevens over onze simulatie op te slaan die we later kunnen gebruiken, zou het beter zijn als het proces voor het verzamelen van gegevens meer gestroomlijnd was.\n",
    "Aan deze simulatie ontbreekt nog veel. De uitvoering van bochten is slecht en inefficiënt en veroorzaakt problemen met interacties tussen voertuigen en verkeerslichten."
   ]
  },
  {
   "cell_type": "code",
   "execution_count": null,
   "metadata": {},
   "outputs": [],
   "source": []
  }
 ],
 "metadata": {
  "kernelspec": {
   "display_name": "Python 3",
   "language": "python",
   "name": "python3"
  },
  "language_info": {
   "codemirror_mode": {
    "name": "ipython",
    "version": 3
   },
   "file_extension": ".py",
   "mimetype": "text/x-python",
   "name": "python",
   "nbconvert_exporter": "python",
   "pygments_lexer": "ipython3",
   "version": "3.8.5"
  }
 },
 "nbformat": 4,
 "nbformat_minor": 4
}
